{
  "nbformat": 4,
  "nbformat_minor": 0,
  "metadata": {
    "kernelspec": {
      "display_name": "Python 3",
      "language": "python",
      "name": "python3"
    },
    "language_info": {
      "codemirror_mode": {
        "name": "ipython",
        "version": 3
      },
      "file_extension": ".py",
      "mimetype": "text/x-python",
      "name": "python",
      "nbconvert_exporter": "python",
      "pygments_lexer": "ipython3",
      "version": "3.6.6"
    },
    "colab": {
      "provenance": [],
      "include_colab_link": true
    }
  },
  "cells": [
    {
      "cell_type": "markdown",
      "metadata": {
        "id": "view-in-github",
        "colab_type": "text"
      },
      "source": [
        "<a href=\"https://colab.research.google.com/github/awiteck/DeepLearningAssignments/blob/main/AIT_09_Author_classification_assessment.ipynb\" target=\"_parent\"><img src=\"https://colab.research.google.com/assets/colab-badge.svg\" alt=\"Open In Colab\"/></a>"
      ]
    },
    {
      "cell_type": "markdown",
      "metadata": {
        "id": "_jiGtJu6u9ml"
      },
      "source": [
        "# Copyright\n",
        "\n",
        "<PRE>\n",
        "Copyright (c) 2023 Bálint Gyires-Tóth - All Rights Reserved\n",
        "You may use and modify this code for research and development purpuses.\n",
        "Use this code for educational purposes (self-paced or instructor led) without the permission of the author is prohibited.\n",
        "</PRE>"
      ]
    },
    {
      "cell_type": "markdown",
      "metadata": {
        "id": "oXyFC44jV-PP"
      },
      "source": [
        "# Author classification\n",
        "The task is to train a 1D CNN or an LSTM that is able to  classify text from two authors. The final model should be able to tell about a text with a given length (e.g. 60 characters) who wrote it. \n",
        "\n",
        "Please write the codes according to the following parts:"
      ]
    },
    {
      "cell_type": "markdown",
      "metadata": {
        "id": "jCnLoeGrHXsp"
      },
      "source": [
        "## Python module imports\n",
        "Import all Python modules that you would need during the Assignment."
      ]
    },
    {
      "cell_type": "code",
      "metadata": {
        "id": "7itbFGt3HXVT"
      },
      "source": [
        "import numpy as np\n",
        "import pandas as pd\n",
        "from tensorflow.keras.models import Sequential\n",
        "from tensorflow.keras.utils import to_categorical\n",
        "from tensorflow.keras.layers import Activation, Dense, Flatten, Conv1D, MaxPooling1D, Dropout\n",
        "from tensorflow.keras.callbacks import EarlyStopping\n",
        "from tensorflow.keras.optimizers import SGD\n",
        "import matplotlib.pyplot as plt\n",
        "import seaborn as sns\n",
        "import random\n",
        "from sklearn.utils import shuffle\n",
        "from sklearn.metrics import confusion_matrix, classification_report"
      ],
      "execution_count": 1,
      "outputs": []
    },
    {
      "cell_type": "code",
      "source": [
        "from google.colab import drive\n",
        "drive.mount('/content/drive')"
      ],
      "metadata": {
        "colab": {
          "base_uri": "https://localhost:8080/"
        },
        "id": "U2RslmStt3f6",
        "outputId": "4ce079c1-c78e-4515-c12a-b76f8d583b16"
      },
      "execution_count": 2,
      "outputs": [
        {
          "output_type": "stream",
          "name": "stdout",
          "text": [
            "Mounted at /content/drive\n"
          ]
        }
      ]
    },
    {
      "cell_type": "markdown",
      "metadata": {
        "id": "Hr617tEpHd8R"
      },
      "source": [
        "## Data acquisition\n",
        "Seek a possible dataset, you can use any source, e.g.\n",
        "* http://www.gutenberg.org/\n",
        "* https://www.kaggle.com/datasets\n",
        "* https://paperswithcode.com/datasets\n",
        "* if you would like to learn Hungarian, than e.g. https://mek.oszk.hu/\n",
        "\n",
        "You can download the text by hand (e.g. by copy-pasting some parts into txt files) or with Python. "
      ]
    },
    {
      "cell_type": "code",
      "metadata": {
        "id": "NgkdQxHqHdZB"
      },
      "source": [
        "with open('/content/drive/MyDrive/Frankenstein.txt') as f:\n",
        "    lines = f.readlines()"
      ],
      "execution_count": 3,
      "outputs": []
    },
    {
      "cell_type": "code",
      "source": [
        "with open('/content/drive/MyDrive/Frankenstein.txt') as f:\n",
        "    frankenstein_flat_list=[word for line in f for word in line.split()]\n",
        "with open('/content/drive/MyDrive/greatgatsby.txt') as f:\n",
        "    greatgatsby_flat_list=[word for line in f for word in line.split()]"
      ],
      "metadata": {
        "id": "oInBwnqxupUK"
      },
      "execution_count": 4,
      "outputs": []
    },
    {
      "cell_type": "code",
      "source": [
        "frank = open(\"/content/drive/MyDrive/Frankenstein.txt\", \"r\")\n",
        "gatsby = open(\"/content/drive/MyDrive/greatgatsby.txt\", \"r\")\n",
        "\n",
        "# Replace gets rid of all newline characters\n",
        "# The [500:] gets rid of formatting stuff at beginning of text file\n",
        "frank_data = frank.read().replace('\\\\\\n', ' ')[500:]\n",
        "gatsby_data = gatsby.read().replace('\\\\\\n', ' ')[500:]"
      ],
      "metadata": {
        "id": "OWZDs9_iwS4n"
      },
      "execution_count": 5,
      "outputs": []
    },
    {
      "cell_type": "markdown",
      "source": [
        "## Data analysis\n",
        "Count the number of characters from both authors and display them on a plot (e.g. Seaborn's countplot)."
      ],
      "metadata": {
        "id": "U9Pmq91t3SRD"
      }
    },
    {
      "cell_type": "code",
      "source": [
        "len(frank_data), len(gatsby_data)"
      ],
      "metadata": {
        "colab": {
          "base_uri": "https://localhost:8080/"
        },
        "id": "njcCpLne3VKA",
        "outputId": "53e38380-f282-4f74-dd7c-b4629e0f9037"
      },
      "execution_count": 6,
      "outputs": [
        {
          "output_type": "execute_result",
          "data": {
            "text/plain": [
              "(422145, 284465)"
            ]
          },
          "metadata": {},
          "execution_count": 6
        }
      ]
    },
    {
      "cell_type": "code",
      "source": [
        "# creating the dataset\n",
        "data = {'frankenstein':len(frank_data), 'great gatsby':len(gatsby_data)}\n",
        "keys = list(data.keys())\n",
        "values = list(data.values())\n",
        "  \n",
        "fig = plt.figure(figsize = (10, 5))\n",
        " \n",
        "# creating the bar plot\n",
        "plt.bar(keys, values, color ='maroon',\n",
        "        width = 0.4)\n",
        " \n",
        "plt.xlabel(\"Book\")\n",
        "plt.ylabel(\"No. of characters\")\n",
        "plt.show()"
      ],
      "metadata": {
        "colab": {
          "base_uri": "https://localhost:8080/",
          "height": 465
        },
        "id": "ChM-Uggt4DAv",
        "outputId": "baf9a8a0-0dd5-4773-fc85-fbfe48b9ed9e"
      },
      "execution_count": 7,
      "outputs": [
        {
          "output_type": "display_data",
          "data": {
            "text/plain": [
              "<Figure size 1000x500 with 1 Axes>"
            ],
            "image/png": "[encoded data removed]"
          },
          "metadata": {}
        }
      ]
    },
    {
      "cell_type": "markdown",
      "metadata": {
        "id": "cHyE_ndGIblJ"
      },
      "source": [
        "## Data loading, labeling and preprocessing\n",
        "Load the data and convert the characters into one-hot encodings. Then load the data into a 3D NumPy array, with a shape of\n",
        "\n",
        "* (batch, sequence_length, alphabet_length)\n",
        "\n",
        "where sequence_length=60, and alphabet_length equals to the number of unique characters in both datasets. The sequences should be cut out from the complete dataset by sliding window. You should add 0 and 1 labels to the sequences, according to the author. \n",
        "\n",
        "Later you may change sequence_length to achieve better results!"
      ]
    },
    {
      "cell_type": "code",
      "metadata": {
        "id": "arooXt0WIb6x"
      },
      "source": [
        "def split_string(data, n):\n",
        "  return [data[i:i+n] for i in range(0, len(data), n)]"
      ],
      "execution_count": 8,
      "outputs": []
    },
    {
      "cell_type": "code",
      "source": [
        "gatsby_split = split_string(gatsby_data, 60)[:-2]\n",
        "frank_split = split_string(frank_data, 60)[:-2]"
      ],
      "metadata": {
        "id": "3SgOyFGnXT26"
      },
      "execution_count": 9,
      "outputs": []
    },
    {
      "cell_type": "code",
      "source": [
        "y = np.concatenate((np.zeros(len(gatsby_split)), (np.ones(len(frank_split)))))"
      ],
      "metadata": {
        "id": "mfN796R7XZlk"
      },
      "execution_count": 10,
      "outputs": []
    },
    {
      "cell_type": "code",
      "source": [
        "concat_data = split_string(gatsby_data, 60)[:-2] + split_string(frank_data, 60)[:-2]\n",
        "# random.shuffle(concat_data)"
      ],
      "metadata": {
        "id": "ATfbeL704phK"
      },
      "execution_count": 11,
      "outputs": []
    },
    {
      "cell_type": "code",
      "source": [
        "#concat_data"
      ],
      "metadata": {
        "id": "fsv2DI9GDHzB"
      },
      "execution_count": 12,
      "outputs": []
    },
    {
      "cell_type": "code",
      "source": [],
      "metadata": {
        "id": "RR7TDFtk-lpy"
      },
      "execution_count": 12,
      "outputs": []
    },
    {
      "cell_type": "code",
      "source": [
        "all_chars = sorted(list(set(frank_data + gatsby_data)))\n",
        "char_to_indicies = dict((c, i) for i, c in enumerate(all_chars))"
      ],
      "metadata": {
        "id": "afFomtFxDr4y"
      },
      "execution_count": 13,
      "outputs": []
    },
    {
      "cell_type": "markdown",
      "metadata": {
        "id": "lL1Mc8ibHnep"
      },
      "source": [
        "## Data splitting\n",
        "Split the data into train, validate and test sets. Make "
      ]
    },
    {
      "cell_type": "code",
      "source": [
        "def one_hot_encode(s, char_dict):\n",
        "  result = np.zeros((len(s), len(char_dict)))\n",
        "  for i in range(len(s)):\n",
        "    result[i][char_dict[s[i]]] = 1\n",
        "  return result"
      ],
      "metadata": {
        "id": "5E4VYN_-EnQ_"
      },
      "execution_count": 14,
      "outputs": []
    },
    {
      "cell_type": "code",
      "metadata": {
        "id": "ELyG9XFUHrkB"
      },
      "source": [
        "X = np.zeros((len(concat_data), 60, len(all_chars)))"
      ],
      "execution_count": 15,
      "outputs": []
    },
    {
      "cell_type": "code",
      "source": [
        "for line in concat_data:\n",
        "  if len(line) != 60:\n",
        "    print(len(line))"
      ],
      "metadata": {
        "id": "VCw7YMBmFg50"
      },
      "execution_count": 16,
      "outputs": []
    },
    {
      "cell_type": "code",
      "source": [
        "for i in range(len(concat_data)):\n",
        "  X[i] = one_hot_encode(concat_data[i], char_to_indicies)"
      ],
      "metadata": {
        "id": "uQ2ZyUpyDjSq"
      },
      "execution_count": 17,
      "outputs": []
    },
    {
      "cell_type": "code",
      "source": [
        "X.shape, y.shape"
      ],
      "metadata": {
        "colab": {
          "base_uri": "https://localhost:8080/"
        },
        "id": "khI536yEJE9k",
        "outputId": "c0db491b-e6ce-4ae5-de00-3e8c6c3225a5"
      },
      "execution_count": 18,
      "outputs": [
        {
          "output_type": "execute_result",
          "data": {
            "text/plain": [
              "((11774, 60, 79), (11774,))"
            ]
          },
          "metadata": {},
          "execution_count": 18
        }
      ]
    },
    {
      "cell_type": "code",
      "source": [
        "X, y = shuffle(X, y)"
      ],
      "metadata": {
        "id": "Gmj0MEyKZ14E"
      },
      "execution_count": 19,
      "outputs": []
    },
    {
      "cell_type": "code",
      "source": [
        "train_split = 0.9\n",
        "val_split = 0.8\n",
        "X_train = X[:int(train_split * len(X))]\n",
        "X_test = X[int(train_split * len(X)):]\n",
        "Y_train = y[:int(train_split * len(y))]\n",
        "Y_test = y[int(train_split * len(y)):]"
      ],
      "metadata": {
        "id": "M2gPdr2ZZuY0"
      },
      "execution_count": 20,
      "outputs": []
    },
    {
      "cell_type": "code",
      "source": [
        "print(\"X_train: \", X_train.shape)\n",
        "print(\"X_test: \", X_test.shape)\n",
        "print(\"Y_train: \", Y_train.shape)\n",
        "print(\"Y_test: \", Y_test.shape)"
      ],
      "metadata": {
        "colab": {
          "base_uri": "https://localhost:8080/"
        },
        "id": "mxLmSTI2baT-",
        "outputId": "f3a42707-5ca7-4a16-e11e-4543fda3a066"
      },
      "execution_count": 21,
      "outputs": [
        {
          "output_type": "stream",
          "name": "stdout",
          "text": [
            "X_train:  (10596, 60, 79)\n",
            "X_test:  (1178, 60, 79)\n",
            "Y_train:  (10596,)\n",
            "Y_test:  (1178,)\n"
          ]
        }
      ]
    },
    {
      "cell_type": "markdown",
      "metadata": {
        "id": "hA8U9tr7HrNQ"
      },
      "source": [
        "## Model definition\n",
        "Define a 1D CNN or an LSTM for the task. Compile the model with the correct loss function."
      ]
    },
    {
      "cell_type": "code",
      "metadata": {
        "id": "BT1V1s4kHuUe"
      },
      "source": [
        "nb_filter       = 64   # number of filter/kernels in the convolutional layers\n",
        "filter_length   = 48  # length of the filter/kernel in the convolutional layers\n",
        "window_size     = X_train.shape[1] # the window size defined by the dataset\n",
        "nb_features     = X_train.shape[2] # the number of features of the input data\n",
        "nb_outputs      = 1 # the number of outputs (defined by the target data)"
      ],
      "execution_count": 22,
      "outputs": []
    },
    {
      "cell_type": "markdown",
      "metadata": {
        "id": "hWFb-nAMHuAI"
      },
      "source": [
        "## Model training\n",
        "Train the model and apply early stopping."
      ]
    },
    {
      "cell_type": "code",
      "metadata": {
        "id": "dvgKjqp3Hwkp"
      },
      "source": [
        "model = Sequential()\n",
        "model.add(Conv1D(filters=nb_filter, kernel_size=filter_length, activation='relu', kernel_initializer='he_normal', input_shape=(window_size, nb_features), padding='same'))\n",
        "# model.add(MaxPooling1D())\n",
        "model.add(Dropout(0.3))\n",
        "model.add(Conv1D(filters=nb_filter, kernel_size=filter_length, activation='relu', kernel_initializer='he_normal'))\n",
        "model.add(MaxPooling1D())\n",
        "model.add(Dropout(0.3))\n",
        "model.add(Flatten())\n",
        "model.add(Dense(128, activation='relu'))\n",
        "model.add(Dropout(0.3))\n",
        "model.add(Dense(nb_outputs, activation='sigmoid'))"
      ],
      "execution_count": 23,
      "outputs": []
    },
    {
      "cell_type": "markdown",
      "metadata": {
        "id": "0omw2XzSHwOo"
      },
      "source": [
        "## Evaluation on test data\n",
        "Evaluate the model on the test data in terms of loss and accuracy."
      ]
    },
    {
      "cell_type": "code",
      "metadata": {
        "id": "4bF3dQA1Hv_R",
        "colab": {
          "base_uri": "https://localhost:8080/"
        },
        "outputId": "bf4ae31f-ae34-45d5-f029-be8a306af63f"
      },
      "source": [
        "model.compile(loss='binary_crossentropy', optimizer='adam', metrics=['accuracy'])\n",
        "model.summary()"
      ],
      "execution_count": 24,
      "outputs": [
        {
          "output_type": "stream",
          "name": "stdout",
          "text": [
            "Model: \"sequential\"\n",
            "_________________________________________________________________\n",
            " Layer (type)                Output Shape              Param #   \n",
            "=================================================================\n",
            " conv1d (Conv1D)             (None, 60, 64)            242752    \n",
            "                                                                 \n",
            " dropout (Dropout)           (None, 60, 64)            0         \n",
            "                                                                 \n",
            " conv1d_1 (Conv1D)           (None, 13, 64)            196672    \n",
            "                                                                 \n",
            " max_pooling1d (MaxPooling1D  (None, 6, 64)            0         \n",
            " )                                                               \n",
            "                                                                 \n",
            " dropout_1 (Dropout)         (None, 6, 64)             0         \n",
            "                                                                 \n",
            " flatten (Flatten)           (None, 384)               0         \n",
            "                                                                 \n",
            " dense (Dense)               (None, 128)               49280     \n",
            "                                                                 \n",
            " dropout_2 (Dropout)         (None, 128)               0         \n",
            "                                                                 \n",
            " dense_1 (Dense)             (None, 1)                 129       \n",
            "                                                                 \n",
            "=================================================================\n",
            "Total params: 488,833\n",
            "Trainable params: 488,833\n",
            "Non-trainable params: 0\n",
            "_________________________________________________________________\n"
          ]
        }
      ]
    },
    {
      "cell_type": "code",
      "source": [
        "es = EarlyStopping(patience=10, restore_best_weights=True, monitor=\"val_loss\")"
      ],
      "metadata": {
        "id": "SVH5oRbQcgQi"
      },
      "execution_count": 25,
      "outputs": []
    },
    {
      "cell_type": "code",
      "source": [
        "history = model.fit(X_train, Y_train, \n",
        "          epochs=15, batch_size=32, \n",
        "          validation_split=0.2, # don't change the validation split\n",
        "          callbacks=[es],\n",
        "          verbose=2)"
      ],
      "metadata": {
        "colab": {
          "base_uri": "https://localhost:8080/"
        },
        "id": "oYuEjuLAcjCl",
        "outputId": "471cae0c-5406-4ef0-9b5a-48d90853b5b7"
      },
      "execution_count": 26,
      "outputs": [
        {
          "output_type": "stream",
          "name": "stdout",
          "text": [
            "Epoch 1/15\n",
            "265/265 - 34s - loss: 0.5539 - accuracy: 0.7173 - val_loss: 0.4910 - val_accuracy: 0.7693 - 34s/epoch - 128ms/step\n",
            "Epoch 2/15\n",
            "265/265 - 30s - loss: 0.4203 - accuracy: 0.8110 - val_loss: 0.4474 - val_accuracy: 0.7953 - 30s/epoch - 112ms/step\n",
            "Epoch 3/15\n",
            "265/265 - 29s - loss: 0.2602 - accuracy: 0.8922 - val_loss: 0.5476 - val_accuracy: 0.7594 - 29s/epoch - 108ms/step\n",
            "Epoch 4/15\n",
            "265/265 - 31s - loss: 0.1174 - accuracy: 0.9572 - val_loss: 0.6480 - val_accuracy: 0.7925 - 31s/epoch - 116ms/step\n",
            "Epoch 5/15\n",
            "265/265 - 29s - loss: 0.0710 - accuracy: 0.9736 - val_loss: 0.7040 - val_accuracy: 0.7892 - 29s/epoch - 111ms/step\n",
            "Epoch 6/15\n",
            "265/265 - 29s - loss: 0.0576 - accuracy: 0.9784 - val_loss: 0.7111 - val_accuracy: 0.7915 - 29s/epoch - 108ms/step\n",
            "Epoch 7/15\n",
            "265/265 - 29s - loss: 0.0519 - accuracy: 0.9811 - val_loss: 0.7457 - val_accuracy: 0.7967 - 29s/epoch - 108ms/step\n",
            "Epoch 8/15\n",
            "265/265 - 28s - loss: 0.0421 - accuracy: 0.9840 - val_loss: 0.7408 - val_accuracy: 0.7797 - 28s/epoch - 107ms/step\n",
            "Epoch 9/15\n",
            "265/265 - 28s - loss: 0.0456 - accuracy: 0.9829 - val_loss: 0.7224 - val_accuracy: 0.7929 - 28s/epoch - 107ms/step\n",
            "Epoch 10/15\n",
            "265/265 - 27s - loss: 0.0294 - accuracy: 0.9912 - val_loss: 0.8746 - val_accuracy: 0.8075 - 27s/epoch - 103ms/step\n",
            "Epoch 11/15\n",
            "265/265 - 35s - loss: 0.0233 - accuracy: 0.9907 - val_loss: 1.0431 - val_accuracy: 0.8066 - 35s/epoch - 133ms/step\n",
            "Epoch 12/15\n",
            "265/265 - 28s - loss: 0.0323 - accuracy: 0.9896 - val_loss: 0.8856 - val_accuracy: 0.7986 - 28s/epoch - 107ms/step\n"
          ]
        }
      ]
    },
    {
      "cell_type": "code",
      "source": [
        "print(model.evaluate(X_test, Y_test))"
      ],
      "metadata": {
        "colab": {
          "base_uri": "https://localhost:8080/"
        },
        "id": "FSSSF2BmpQSz",
        "outputId": "7c729b8d-945f-470d-8d98-59de11777ff6"
      },
      "execution_count": 31,
      "outputs": [
        {
          "output_type": "stream",
          "name": "stdout",
          "text": [
            "37/37 [==============================] - 1s 26ms/step - loss: 0.4120 - accuracy: 0.8141\n",
            "[0.41200920939445496, 0.814091682434082]\n"
          ]
        }
      ]
    },
    {
      "cell_type": "markdown",
      "metadata": {
        "id": "4Y73Q-h5Hz1r"
      },
      "source": [
        "## Confusion matrix\n",
        "Calculate and display the confusion matrix."
      ]
    },
    {
      "cell_type": "code",
      "metadata": {
        "id": "cW8zZi1uJm2B",
        "colab": {
          "base_uri": "https://localhost:8080/"
        },
        "outputId": "d2f20c9a-abf9-4ef2-9e35-9e265301da3c"
      },
      "source": [
        "preds = model.predict(X_test)\n",
        "preds = np.round(preds)"
      ],
      "execution_count": 32,
      "outputs": [
        {
          "output_type": "stream",
          "name": "stdout",
          "text": [
            "37/37 [==============================] - 1s 27ms/step\n"
          ]
        }
      ]
    },
    {
      "cell_type": "code",
      "source": [
        "conf=confusion_matrix(Y_test.reshape(Y_test.shape[0],1),preds)\n",
        "sns.heatmap(conf, annot=True, fmt='d', vmax=100)"
      ],
      "metadata": {
        "colab": {
          "base_uri": "https://localhost:8080/",
          "height": 453
        },
        "id": "I9qjGVvCqcPj",
        "outputId": "7743407f-4595-4f5e-ee9f-22cb8f1d71b3"
      },
      "execution_count": 48,
      "outputs": [
        {
          "output_type": "execute_result",
          "data": {
            "text/plain": [
              "<Axes: >"
            ]
          },
          "metadata": {},
          "execution_count": 48
        },
        {
          "output_type": "display_data",
          "data": {
            "text/plain": [
              "<Figure size 640x480 with 2 Axes>"
            ],
            "image/png": "[encoded data removed]"
          },
          "metadata": {}
        }
      ]
    },
    {
      "cell_type": "code",
      "source": [],
      "metadata": {
        "id": "J3p76ojLAQqw"
      },
      "execution_count": null,
      "outputs": []
    }
  ]
}